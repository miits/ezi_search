{
 "cells": [
  {
   "cell_type": "code",
   "execution_count": 92,
   "metadata": {
    "collapsed": true
   },
   "outputs": [],
   "source": [
    "import re\n",
    "from porter import PorterStemmer\n",
    "import math\n",
    "import numpy as np\n",
    "from scipy.spatial import distance\n",
    "\n",
    "\n",
    "def get_documents(filename):\n",
    "    file = open(filename)\n",
    "    document = ['', ''] # [header, body]\n",
    "    header = True\n",
    "    for line in file.readlines():\n",
    "        if line == '\\n':\n",
    "            yield document\n",
    "            document = ['', '']\n",
    "            header = True\n",
    "            continue\n",
    "        if header:\n",
    "            document[0] = line\n",
    "            header = False\n",
    "        else:\n",
    "            document[1] += line\n",
    "    yield document\n",
    "\n",
    "\n",
    "def load_keywords(filename):\n",
    "    file = open(filename)\n",
    "    keywords = file.read().splitlines()\n",
    "    return keywords"
   ]
  },
  {
   "cell_type": "code",
   "execution_count": 93,
   "metadata": {
    "collapsed": true
   },
   "outputs": [],
   "source": [
    "class TfIdfCalculator:\n",
    "\n",
    "    def __init__(self, keywords, documents):\n",
    "        self.stemmer = PorterStemmer()\n",
    "        self.keywords = self._stemming(\" \".join(keywords), self.stemmer)\n",
    "        self.stemmed_documents = []\n",
    "        for doc in documents:\n",
    "            self.stemmed_documents.append(self._stemming(doc[0] + doc[1], self.stemmer))\n",
    "        self.no_of_documents = len(self.stemmed_documents)\n",
    "\n",
    "    def _tokenize(self, text):\n",
    "        text = text.lower()\n",
    "        text = re.sub(r\"[^A-Za-z0-9]\", \" \", text)\n",
    "        tokens = text.split()\n",
    "        return tokens\n",
    "\n",
    "\n",
    "    def _stemming(self, text, stemmer):\n",
    "        words = self._tokenize(text)\n",
    "        stemmed_words = [stemmer.stem(x, 0, len(x) - 1) for x in words]\n",
    "        return stemmed_words\n",
    "        \n",
    "\n",
    "    def _tfidf(self, term, text):\n",
    "        tf = text.count(term) / max([text.count(x) for x in text])\n",
    "        n = 0\n",
    "        for doc in self.stemmed_documents:\n",
    "            if term in doc:\n",
    "                n += 1\n",
    "        idf = math.log(self.no_of_documents / n)  # div by zero possible\n",
    "        return tf * idf\n",
    "\n",
    "    def calculate_tfidf(self, text):\n",
    "        stemmed_text = self._stemming(text, self.stemmer)\n",
    "        tfidf_vector = np.zeros(len(self.keywords))\n",
    "        for term in stemmed_text:\n",
    "            if term in self.keywords:\n",
    "                tfidf_vector[self.keywords.index(term)] = self._tfidf(term, text)\n",
    "        return tfidf_vector\n"
   ]
  },
  {
   "cell_type": "code",
   "execution_count": 148,
   "metadata": {},
   "outputs": [],
   "source": [
    "class SearchEngine:\n",
    "    \n",
    "    def __init__(self, keywords, documents):\n",
    "        self.tfIdfCalculator = TfIdfCalculator(keywords, documents)\n",
    "        self.tfidf_by_doc_title = {}\n",
    "        for doc in documents:\n",
    "            self.tfidf_by_doc_title[doc[0]] = self.tfIdfCalculator.calculate_tfidf(doc[0] + doc[1])\n",
    "    \n",
    "    def query_documents(self, query):\n",
    "        query_tfidf = self.tfIdfCalculator.calculate_tfidf(query)\n",
    "        result = []\n",
    "        for title, doc_tfidf in self.tfidf_by_doc_title.items():\n",
    "            dist = 1 - distance.cosine(query_tfidf, doc_tfidf)\n",
    "            result.append((title,  0 if math.isnan(dist) else dist))\n",
    "        #return sorted(result, key=lambda title_and_distance: title_and_distance[1], reverse=True)\n",
    "        return sorted(result, key=lambda title_and_distance: title_and_distance[1], reverse=True)"
   ]
  },
  {
   "cell_type": "code",
   "execution_count": 149,
   "metadata": {},
   "outputs": [],
   "source": [
    "documents = list(get_documents('documents.txt'))\n",
    "keywords = load_keywords('keywords.txt')\n",
    "helper = TfIdfCalculator(keywords, documents)"
   ]
  },
  {
   "cell_type": "code",
   "execution_count": 150,
   "metadata": {
    "collapsed": true
   },
   "outputs": [],
   "source": [
    "engine = SearchEngine(keywords,documents)"
   ]
  },
  {
   "cell_type": "code",
   "execution_count": 151,
   "metadata": {},
   "outputs": [
    {
     "name": "stderr",
     "output_type": "stream",
     "text": [
      "C:\\Users\\echomil\\Anaconda3\\lib\\site-packages\\scipy\\spatial\\distance.py:505: RuntimeWarning: invalid value encountered in double_scalars\n",
      "  dist = 1.0 - np.dot(u, v) / (norm(u) * norm(v))\n"
     ]
    },
    {
     "data": {
      "text/plain": [
       "[('Kernel Machines\\n', 0.58757906529148574),\n",
       " ('Home Page of the UW-Madison Machine Learning Research Group\\n',\n",
       "  0.57995941209826196),\n",
       " ('MLnet OiS - Find information and resources on Machine Learning, ... \\n',\n",
       "  0.54039529106007722),\n",
       " ('Simple Machines\\n', 0.42996280012981281),\n",
       " ('The Machine Learning Dictionary\\n', 0.38263897647908118),\n",
       " ('The NN learning algorithm benchmarking page\\n', 0.20871510232887736),\n",
       " ('Machine Learning in Games\\n', 0.0),\n",
       " ('Teaching, Machine Learning\\n', 0.0),\n",
       " ('ICML 2003\\n', 0),\n",
       " ('Machine Learning and Applied Statistics - Home\\n', 0),\n",
       " ('Machine Learning Courses\\n', 0),\n",
       " ('Yahoo! Groups : machine-learning\\n', 0.0),\n",
       " ('Machine Learning at the University of Toronto\\n', 0.0),\n",
       " ('IJCAI 99 Workshop: Machine Learning for Information Filtering. Workshop\\n',\n",
       "  0),\n",
       " ('Machine Learning Research Software\\n', 0.0),\n",
       " ('IDIAP : > MachineLearning > Introduction\\n', 0.0),\n",
       " ('Weka 3 - Data Mining with Open Source Machine Learning Software ... \\n',\n",
       "  0.0),\n",
       " ('Home Pages of ML & CBR Folks\\n', 0.0),\n",
       " ('Artificial Intelligence Subject Index\\n', 0.0),\n",
       " ('Machine Learning in Games has moved\\n', 0.0),\n",
       " ('Machine Learning and Neural Networks Group - Universities of ... \\n', 0.0),\n",
       " ('Journal of Machine Learning Research Homepage\\n', 0.0),\n",
       " ('UCI Machine Learning Repository\\n', 0.0),\n",
       " ('Machine Learning and Information Retrieval (Belew/Shavlik)\\n', 0.0),\n",
       " ('Machine Learning textbook\\n', 0.0),\n",
       " ('Machine Learning\\n', 0),\n",
       " ('Kluwer\\n', 0.0),\n",
       " ('ECML/PKDD-2002\\n', 0),\n",
       " ('CWIS: Machine Learning Research Group\\n', 0.0),\n",
       " ('ICML-2000\\n', 0.0),\n",
       " ('The Rutgers Machine Learning Research Group Homepage\\n', 0.0),\n",
       " ('Open Directory - Computers: Artificial Intelligence: Machine ... \\n', 0.0),\n",
       " ('Data Mining\\n', 0),\n",
       " ('CS 661 - Machine Learning (Salzberg)\\n', 0),\n",
       " ('Applying a Machine Learning Workbench: Experience with ... \\n', 0),\n",
       " ('Machine Learning CiteSeer; NEC Research Institute; Steve ... \\n', 0.0),\n",
       " ('David W. Aha:  Machine Learning Page\\n', 0.0),\n",
       " ('C4.5: Programs for Machine Learning\\n', 0),\n",
       " ('ICML-2001\\n', 0.0),\n",
       " ('Machine Learning in Bioinformatics\\n', 0.0),\n",
       " ('Machine Learning FAQ\\n', 0.0),\n",
       " ('BYU Neural Networks and Machine Learning Lab\\n', 0.0),\n",
       " ('UCI Machine Learning Group\\n', 0.0),\n",
       " ('International Conferences on Machine Learning and Applications\\n', 0),\n",
       " ('Machine Learning/Genetic Algorithm group - Dipartimento di ... \\n', 0.0),\n",
       " ('GMU Machine Learning and Inference Laboratory\\n', 0.0),\n",
       " ('IFIP WG 12.2 Global Web Site for Machine Learning and Case-Based ... \\n',\n",
       "  0),\n",
       " ('Machine Learning and Natural Language Processing Lab\\n', 0),\n",
       " ('Bioinformatics\\n', 0),\n",
       " ('Machine Learning Project\\n', 0.0),\n",
       " ('Machine Learning for Information Extraction\\n', 0),\n",
       " ('15-681 and 15-781 Machine Learning\\n', 0.0),\n",
       " ('ICML-99\\n', 0),\n",
       " ('Machine Learning for Information Retrieval: Neural Networks, ... \\n', 0),\n",
       " ('ICML2002 - Sydney\\n', 0.0),\n",
       " ('The Machine Learning Systems Group at JPL | Home\\n', 0.0),\n",
       " ('Introduction to Machine Learning\\n', 0.0),\n",
       " ('Datasets for Machine Learning, Knowledge Discovery, Data Mining - ... \\n',\n",
       "  0.0),\n",
       " ('Yahoo! Science > Computer Science > Artificial Intelligence > ... \\n', 0),\n",
       " ('Machine Learning Journal\\n', 0.0),\n",
       " ('AAAI Spring Symposium: Machine Learning in Information Access\\n', 0.0),\n",
       " ('Machine Learning, Neural and Statistical Classification\\n', 0.0),\n",
       " ('ECML/PKDD-2001 Home\\n', 0),\n",
       " ('Machine Learning Group\\n', 0),\n",
       " ('UTCS Machine Learning Research Group\\n', 0.0),\n",
       " ('Machine Learning at UC Santa Cruz\\n', 0.0),\n",
       " ('University of York Machine Learning Group\\n', 0),\n",
       " ('Oxford University Machine Learning Group\\n', 0),\n",
       " (\"ECML'98 in Chemnitz\\n\", 0),\n",
       " ('1998 International Machine Learning Conference\\n', 0.0),\n",
       " ('Machine Learning Resources on the Web\\n', 0.0),\n",
       " ('Department of Computer Science\\n', 0.0),\n",
       " ('Cogprints - Subject: Machine Learning\\n', 0.0),\n",
       " ('SGI - MLC++: Home Page\\n', 0.0),\n",
       " ('The Hebrew University - School of Computer Science and ... \\n', 0.0),\n",
       " ('Genetics-Based Machine Learning\\n', 0.0),\n",
       " (\"New Link To Robert Holte's home page for Machine Learning\\n\", 0.0),\n",
       " ('Training - Machine Learning network Online Information Service\\n', 0.0),\n",
       " ('Machine Learning Laboratory\\n', 0.0),\n",
       " ('DTAI - Machine Learning\\n', 0),\n",
       " ('AI / Machine Learning Resources\\n', 0),\n",
       " ('Machine Learning in Automated Text Categorization\\n', 0.0)]"
      ]
     },
     "execution_count": 151,
     "metadata": {},
     "output_type": "execute_result"
    }
   ],
   "source": [
    "engine.query_documents('The Machine Learning Network Online Information Service provides information')"
   ]
  },
  {
   "cell_type": "code",
   "execution_count": null,
   "metadata": {
    "collapsed": true
   },
   "outputs": [],
   "source": []
  }
 ],
 "metadata": {
  "anaconda-cloud": {},
  "kernelspec": {
   "display_name": "Python [conda root]",
   "language": "python",
   "name": "conda-root-py"
  },
  "language_info": {
   "codemirror_mode": {
    "name": "ipython",
    "version": 3
   },
   "file_extension": ".py",
   "mimetype": "text/x-python",
   "name": "python",
   "nbconvert_exporter": "python",
   "pygments_lexer": "ipython3",
   "version": "3.5.3"
  }
 },
 "nbformat": 4,
 "nbformat_minor": 1
}
