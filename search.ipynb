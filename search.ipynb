{
 "cells": [
  {
   "cell_type": "code",
   "execution_count": 60,
   "metadata": {
    "collapsed": true
   },
   "outputs": [],
   "source": [
    "import re\n",
    "from porter import PorterStemmer\n",
    "import math\n",
    "\n",
    "\n",
    "def get_documents(filename):\n",
    "    file = open(filename)\n",
    "    document = ['', ''] # [header, body]\n",
    "    header = True\n",
    "    for line in file.readlines():\n",
    "        if line == '\\n':\n",
    "            yield document\n",
    "            document = ['', '']\n",
    "            header = True\n",
    "            continue\n",
    "        if header:\n",
    "            document[0] = line\n",
    "            header = False\n",
    "        else:\n",
    "            document[1] += line\n",
    "    yield document\n",
    "\n",
    "\n",
    "def load_keywords(filename):\n",
    "    file = open(filename)\n",
    "    keywords = file.read().splitlines()\n",
    "    return keywords\n",
    "\n",
    "\n",
    "def to_words(text):\n",
    "    text = text.lower()\n",
    "    text = re.sub(r\"[^A-Za-z0-9]\", \" \", text)\n",
    "    text = text.split()\n",
    "    return text\n",
    "\n",
    "\n",
    "def to_stemmed_words(text, stemmer):\n",
    "    words = to_words(text)\n",
    "    stemmed_words = [stemmer.stem(x, 0, len(x) - 1) for x in words]\n",
    "    return stemmed_words\n"
   ]
  },
  {
   "cell_type": "code",
   "execution_count": 61,
   "metadata": {
    "collapsed": true
   },
   "outputs": [],
   "source": [
    "class VectorRepresentation:\n",
    "\n",
    "    def __init__(self, keywords, documents):\n",
    "        self.stemmer = PorterStemmer()\n",
    "        self.keywords = keywords\n",
    "        self.documents = []\n",
    "        for doc in documents:\n",
    "            self.documents.append(to_stemmed_words(doc[0] + doc[1], self.stemmer))\n",
    "        self.no_of_documents = len(documents)\n",
    "\n",
    "\n",
    "    def _tfidf(self, term, text):\n",
    "        tf = text.count(term) / max([text.count(x) for x in text])\n",
    "        n = 0\n",
    "        for doc in self.documents:\n",
    "            if term in doc:\n",
    "                n += 1\n",
    "        idf = math.log(self.no_of_documents / n)  # div by zero possible\n",
    "        return tf * idf\n",
    "\n",
    "    def get_tfidf_vector(self, text):\n",
    "        vector = [0.0] * len(self.keywords)\n",
    "        for term in text:\n",
    "            if term in self.keywords:\n",
    "                vector[self.keywords.index(term)] = self._tfidf(term, text)\n",
    "        return vector\n"
   ]
  },
  {
   "cell_type": "code",
   "execution_count": 64,
   "metadata": {
    "collapsed": false
   },
   "outputs": [
    {
     "name": "stdout",
     "output_type": "stream",
     "text": [
      "['appli', 'a', 'machin', 'learn', 'workbench', 'experi', 'with', 'appli', 'a', 'machin', 'learn', 'workbench', 'experi', 'with', 'agricultur', 'databas', 'stephen', 'r', 'garner', 'salli', 'jo', 'cunningham', 'geoffrei', 'holm', 'craig', 'g', 'nevil', 'man']\n"
     ]
    }
   ],
   "source": [
    "# test\n",
    "stemmer = PorterStemmer()\n",
    "for d in get_documents('documents.txt'):\n",
    "    words = to_words(d[0] + d[1])\n",
    "    text = [stemmer.stem(x, 0, len(x) - 1) for x in words]\n",
    "print(text)"
   ]
  },
  {
   "cell_type": "code",
   "execution_count": 63,
   "metadata": {
    "collapsed": true
   },
   "outputs": [],
   "source": [
    "documents = [d for d in get_documents('documents.txt')]\n",
    "keywords = load_keywords('keywords.txt')\n",
    "helper = VectorRepresentation(keywords, documents)"
   ]
  },
  {
   "cell_type": "code",
   "execution_count": null,
   "metadata": {
    "collapsed": true
   },
   "outputs": [],
   "source": []
  }
 ],
 "metadata": {
  "anaconda-cloud": {},
  "kernelspec": {
   "display_name": "Python [conda root]",
   "language": "python",
   "name": "conda-root-py"
  },
  "language_info": {
   "codemirror_mode": {
    "name": "ipython",
    "version": 3
   },
   "file_extension": ".py",
   "mimetype": "text/x-python",
   "name": "python",
   "nbconvert_exporter": "python",
   "pygments_lexer": "ipython3",
   "version": "3.5.2"
  }
 },
 "nbformat": 4,
 "nbformat_minor": 1
}
